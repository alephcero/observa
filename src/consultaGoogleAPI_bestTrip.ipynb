{
 "cells": [
  {
   "cell_type": "code",
   "execution_count": 1,
   "metadata": {
    "collapsed": false
   },
   "outputs": [],
   "source": [
    "import pandas as pd\n",
    "import numpy as np\n",
    "import geopandas as gpd\n",
    "import googlemaps\n",
    "import os\n",
    "\n",
    "import funciones\n",
    "from shapely.geometry import Point\n",
    "\n",
    "import matplotlib.pyplot as plt\n",
    "\n",
    "#para decodificar polilineas\n",
    "#https://developers.google.com/maps/documentation/utilities/polylineutility\n",
    "#'`__rEb|ucJl@cB|BgGbOa\\\\bHuQh@cB@CdBmFnCcH~BgM~A}GbBcIh@qBCJ'\n",
    "\n",
    "#para volver a leer dict de texto\n",
    "#import ast\n",
    "#ast.literal_eval"
   ]
  },
  {
   "cell_type": "code",
   "execution_count": 2,
   "metadata": {
    "collapsed": false
   },
   "outputs": [],
   "source": [
    "#Creo la geometria\n",
    "geo = gpd.read_file('../data/fracciones/FraccionesPoligonoCABA.shp') \n",
    "#cambio coordenadas a latlong para google\n",
    "geo = geo.to_crs(epsg=4326)\n",
    "geo['X'] = [geo.geometry.iloc[i].centroid.x for i in range(geo.shape[0])]\n",
    "geo['Y'] = [geo.geometry.iloc[i].centroid.y for i in range(geo.shape[0])]\n"
   ]
  },
  {
   "cell_type": "code",
   "execution_count": 3,
   "metadata": {
    "collapsed": false
   },
   "outputs": [],
   "source": [
    "variablesMapeo = [ u'tramos',u'distancia',u'costo',u'tiempoTotal','descripcion',\n",
    "              u'duracionIngreso', u'distanciaIngreso',\n",
    "         u'duracionEgreso',  u'distanciaEgreso',  u'tiempoEnSistema']"
   ]
  },
  {
   "cell_type": "code",
   "execution_count": 4,
   "metadata": {
    "collapsed": false
   },
   "outputs": [],
   "source": [
    "#creo el vector de destinos\n",
    "escenario1 = gpd.read_file('../data/escenarios/EscenarioV4.shp')\n",
    "escenario1 = escenario1.to_crs(epsg=4326)\n",
    "destinos = [(escenario1.geometry.iloc[i].y,escenario1.geometry.iloc[i].x) for i in range(escenario1.shape[0])]\n"
   ]
  },
  {
   "cell_type": "code",
   "execution_count": 10,
   "metadata": {
    "collapsed": false
   },
   "outputs": [],
   "source": [
    "dataE1D1_bestTrip = funciones.generarDataset(geo.copy(),destinos[0],transit_routing_preference = False)"
   ]
  },
  {
   "cell_type": "code",
   "execution_count": null,
   "metadata": {
    "collapsed": false
   },
   "outputs": [],
   "source": [
    "for var in variablesMapeo:\n",
    "    funciones.mapear(dataset = dataE1D1_bestTrip,\n",
    "                     variable = var,\n",
    "                     destino = destinos[0],\n",
    "                     archivo = '../maps/dataE1D1_bestTrip' +'-' + var +'.png',\n",
    "                     titulo = var)"
   ]
  },
  {
   "cell_type": "code",
   "execution_count": null,
   "metadata": {
    "collapsed": false
   },
   "outputs": [],
   "source": [
    "funciones.guardarData(dataE1D1,'dataE1D1_bestTrip')"
   ]
  },
  {
   "cell_type": "code",
   "execution_count": null,
   "metadata": {
    "collapsed": true
   },
   "outputs": [],
   "source": [
    "dataE1D2_bestTrip = funciones.generarDataset(geo.copy(),destinos[1],transit_routing_preference = False)"
   ]
  },
  {
   "cell_type": "code",
   "execution_count": null,
   "metadata": {
    "collapsed": true
   },
   "outputs": [],
   "source": [
    "dataE1D3_bestTrip = funciones.generarDataset(geo.copy(),destinos[2],transit_routing_preference = False)"
   ]
  },
  {
   "cell_type": "code",
   "execution_count": null,
   "metadata": {
    "collapsed": true
   },
   "outputs": [],
   "source": [
    "dataE1D4_bestTrip = funciones.generarDataset(geo.copy(),destinos[3],transit_routing_preference = False)"
   ]
  },
  {
   "cell_type": "code",
   "execution_count": null,
   "metadata": {
    "collapsed": true
   },
   "outputs": [],
   "source": [
    "dataE1D5_bestTrip = funciones.generarDataset(geo.copy(),destinos[4],transit_routing_preference = False)"
   ]
  },
  {
   "cell_type": "code",
   "execution_count": null,
   "metadata": {
    "collapsed": true
   },
   "outputs": [],
   "source": [
    "dataE1D6_bestTrip = funciones.generarDataset(geo.copy(),destinos[5],transit_routing_preference = False)"
   ]
  },
  {
   "cell_type": "code",
   "execution_count": null,
   "metadata": {
    "collapsed": true
   },
   "outputs": [],
   "source": [
    "dataE1D7_bestTrip = funciones.generarDataset(geo.copy(),destinos[6],transit_routing_preference = False)"
   ]
  },
  {
   "cell_type": "code",
   "execution_count": null,
   "metadata": {
    "collapsed": false
   },
   "outputs": [],
   "source": [
    "for var in variablesMapeo:\n",
    "    funciones.mapear(dataset = dataE1D2_bestTrip,\n",
    "                     variable = var,\n",
    "                     destino = destinos[1],\n",
    "                     archivo = '../maps/dataE1D2_bestTrip' +'-' + var +'.png',\n",
    "                     titulo = var)\n",
    "    \n",
    "for var in variablesMapeo:\n",
    "    funciones.mapear(dataset = dataE1D3_bestTrip,\n",
    "                     variable = var,\n",
    "                     destino = destinos[2],\n",
    "                     archivo = '../maps/dataE1D3_bestTrip' +'-' + var +'.png',\n",
    "                     titulo = var)\n",
    "    \n",
    "for var in variablesMapeo:\n",
    "    funciones.mapear(dataset = dataE1D4_bestTrip,\n",
    "                     variable = var,\n",
    "                     destino = destinos[3],\n",
    "                     archivo = '../maps/dataE1D4_bestTrip' +'-' + var +'.png',\n",
    "                     titulo = var)\n",
    "    \n",
    "for var in variablesMapeo:\n",
    "    funciones.mapear(dataset = dataE1D5_bestTrip,\n",
    "                     variable = var,\n",
    "                     destino = destinos[4],\n",
    "                     archivo = '../maps/dataE1D5_bestTrip' +'-' + var +'.png',\n",
    "                     titulo = var)\n",
    "    \n",
    "for var in variablesMapeo:\n",
    "    funciones.mapear(dataset = dataE1D6_bestTrip,\n",
    "                     variable = var,\n",
    "                     destino = destinos[5],\n",
    "                     archivo = '../maps/dataE1D6_bestTrip' +'-' + var +'.png',\n",
    "                     titulo = var)\n",
    "    \n",
    "for var in variablesMapeo:\n",
    "    funciones.mapear(dataset = dataE1D7_bestTrip,\n",
    "                     variable = var,\n",
    "                     destino = destinos[6],\n",
    "                     archivo = '../maps/dataE1D7_bestTrip' +'-' + var +'.png',\n",
    "                     titulo = var)"
   ]
  },
  {
   "cell_type": "code",
   "execution_count": null,
   "metadata": {
    "collapsed": true
   },
   "outputs": [],
   "source": [
    "dataE1D2_bestTrip = funciones.generarDistancia(dataE1D2_bestTrip,destinos[1])\n",
    "dataE1D3_bestTrip = funciones.generarDistancia(dataE1D3_bestTrip,destinos[2])\n",
    "dataE1D4_bestTrip = funciones.generarDistancia(dataE1D4_bestTrip,destinos[3])\n",
    "dataE1D5_bestTrip = funciones.generarDistancia(dataE1D5_bestTrip,destinos[4])\n",
    "dataE1D6_bestTrip = funciones.generarDistancia(dataE1D6_bestTrip,destinos[5])\n",
    "dataE1D7_bestTrip = funciones.generarDistancia(dataE1D7_bestTrip,destinos[6])"
   ]
  },
  {
   "cell_type": "code",
   "execution_count": null,
   "metadata": {
    "collapsed": true
   },
   "outputs": [],
   "source": [
    "dataE1D1_bestTrip.preferenciasConsulta = 'bestTrip'\n",
    "dataE1D2_bestTrip.preferenciasConsulta = 'bestTrip'\n",
    "dataE1D3_bestTrip.preferenciasConsulta = 'bestTrip'\n",
    "dataE1D4_bestTrip.preferenciasConsulta = 'bestTrip'\n",
    "dataE1D5_bestTrip.preferenciasConsulta = 'bestTrip'\n",
    "dataE1D6_bestTrip.preferenciasConsulta = 'bestTrip'\n",
    "dataE1D7_bestTrip.preferenciasConsulta = 'bestTrip'"
   ]
  },
  {
   "cell_type": "code",
   "execution_count": null,
   "metadata": {
    "collapsed": true
   },
   "outputs": [],
   "source": [
    "funciones.guardarData(dataE1D2_bestTrip,'dataE1D2_bestTrip')\n",
    "funciones.guardarData(dataE1D3_bestTrip,'dataE1D3_bestTrip')\n",
    "funciones.guardarData(dataE1D4_bestTrip,'dataE1D4_bestTrip')\n",
    "funciones.guardarData(dataE1D5_bestTrip,'dataE1D5_bestTrip')\n",
    "funciones.guardarData(dataE1D6_bestTrip,'dataE1D6_bestTrip')\n",
    "funciones.guardarData(dataE1D7_bestTrip,'dataE1D7_bestTrip')"
   ]
  },
  {
   "cell_type": "code",
   "execution_count": null,
   "metadata": {
    "collapsed": false
   },
   "outputs": [],
   "source": []
  },
  {
   "cell_type": "code",
   "execution_count": null,
   "metadata": {
    "collapsed": true
   },
   "outputs": [],
   "source": []
  }
 ],
 "metadata": {
  "anaconda-cloud": {},
  "kernelspec": {
   "display_name": "Python [default]",
   "language": "python",
   "name": "python2"
  },
  "language_info": {
   "codemirror_mode": {
    "name": "ipython",
    "version": 2
   },
   "file_extension": ".py",
   "mimetype": "text/x-python",
   "name": "python",
   "nbconvert_exporter": "python",
   "pygments_lexer": "ipython2",
   "version": "2.7.12"
  }
 },
 "nbformat": 4,
 "nbformat_minor": 2
}
