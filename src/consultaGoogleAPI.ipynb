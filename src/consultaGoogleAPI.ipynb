{
 "cells": [
  {
   "cell_type": "code",
   "execution_count": 1,
   "metadata": {
    "collapsed": false
   },
   "outputs": [],
   "source": [
    "import pandas as pd\n",
    "import numpy as np\n",
    "import geopandas as gpd\n",
    "import googlemaps\n",
    "import os\n",
    "\n",
    "import funciones\n",
    "from shapely.geometry import Point\n",
    "\n",
    "import matplotlib.pyplot as plt\n",
    "\n",
    "#para decodificar polilineas\n",
    "#https://developers.google.com/maps/documentation/utilities/polylineutility\n",
    "#'`__rEb|ucJl@cB|BgGbOa\\\\bHuQh@cB@CdBmFnCcH~BgM~A}GbBcIh@qBCJ'\n",
    "\n",
    "#para volver a leer dict de texto\n",
    "#import ast\n",
    "#ast.literal_eval"
   ]
  },
  {
   "cell_type": "code",
   "execution_count": 2,
   "metadata": {
    "collapsed": false
   },
   "outputs": [],
   "source": [
    "#Creo la geometria\n",
    "geo = gpd.read_file('../data/fracciones/FraccionesPoligonoCABA.shp') \n",
    "#cambio coordenadas a latlong para google\n",
    "geo = geo.to_crs(epsg=4326)\n",
    "geo['X'] = [geo.geometry.iloc[i].centroid.x for i in range(geo.shape[0])]\n",
    "geo['Y'] = [geo.geometry.iloc[i].centroid.y for i in range(geo.shape[0])]\n"
   ]
  },
  {
   "cell_type": "code",
   "execution_count": 3,
   "metadata": {
    "collapsed": false
   },
   "outputs": [],
   "source": [
    "variablesMapeo = [ u'tramos',u'distancia',u'costo',u'tiempoTotal','descripcion',\n",
    "              u'duracionIngreso', u'distanciaIngreso',\n",
    "         u'duracionEgreso',  u'distanciaEgreso',  u'tiempoEnSistema']"
   ]
  },
  {
   "cell_type": "code",
   "execution_count": 4,
   "metadata": {
    "collapsed": false
   },
   "outputs": [],
   "source": [
    "#creo el vector de destinos\n",
    "escenario1 = gpd.read_file('../data/escenarios/EscenarioV4.shp')\n",
    "escenario1 = escenario1.to_crs(epsg=4326)\n",
    "destinos = [(escenario1.geometry.iloc[i].y,escenario1.geometry.iloc[i].x) for i in range(escenario1.shape[0])]\n"
   ]
  },
  {
   "cell_type": "code",
   "execution_count": null,
   "metadata": {
    "collapsed": true
   },
   "outputs": [],
   "source": [
    "#Escenarios en .csv.\n",
    "# destino y la fecha de la corrida como columna a cada base.\n",
    "#Tambien agregar el parametro de la corrida "
   ]
  },
  {
   "cell_type": "code",
   "execution_count": 5,
   "metadata": {
    "collapsed": true
   },
   "outputs": [],
   "source": [
    "data = geo[geo.Fraccion == '0201314'].copy()\n",
    "origenes = (data.iloc[0].Y,data.iloc[0].X)"
   ]
  },
  {
   "cell_type": "code",
   "execution_count": null,
   "metadata": {
    "collapsed": false
   },
   "outputs": [],
   "source": [
    "gmaps = googlemaps.Client(key=os.getenv('GOOGLEAPIACYA'))\n",
    "\n",
    "travel = gmaps.directions(origin = origenes,\n",
    "                          destination = destinos[0],\n",
    "                          transit_routing_preference = 'fewer_transfers',\n",
    "                          mode = 'transit',alternatives=False)"
   ]
  },
  {
   "cell_type": "code",
   "execution_count": null,
   "metadata": {
    "collapsed": false
   },
   "outputs": [],
   "source": [
    "funciones.googDirections(origins = origenes,\n",
    "                         destinations = destinos[0],\n",
    "                         transit_routing_preference = False,\n",
    "                         mode=\"transit\")"
   ]
  },
  {
   "cell_type": "code",
   "execution_count": null,
   "metadata": {
    "collapsed": false
   },
   "outputs": [],
   "source": [
    "funciones.googDirections(origins = origenes,\n",
    "                         destinations = destinos[0],\n",
    "                         transit_routing_preference = 'fewer_transfers',\n",
    "                         mode=\"transit\")"
   ]
  },
  {
   "cell_type": "code",
   "execution_count": null,
   "metadata": {
    "collapsed": true
   },
   "outputs": [],
   "source": []
  },
  {
   "cell_type": "code",
   "execution_count": null,
   "metadata": {
    "collapsed": true
   },
   "outputs": [],
   "source": []
  },
  {
   "cell_type": "code",
   "execution_count": 6,
   "metadata": {
    "collapsed": false
   },
   "outputs": [],
   "source": [
    "dataE1D1_noParam = funciones.generarDataset(data,destinos[0],transit_routing_preference = False)"
   ]
  },
  {
   "cell_type": "code",
   "execution_count": 7,
   "metadata": {
    "collapsed": false
   },
   "outputs": [
    {
     "data": {
      "text/plain": [
       "32    [WALKING, TRANSIT, WALKING, TRANSIT, WALKING, ...\n",
       "Name: descripcion, dtype: object"
      ]
     },
     "execution_count": 7,
     "metadata": {},
     "output_type": "execute_result"
    }
   ],
   "source": [
    "dataE1D1_noParam['descripcion']"
   ]
  },
  {
   "cell_type": "code",
   "execution_count": 8,
   "metadata": {
    "collapsed": false
   },
   "outputs": [
    {
     "name": "stdout",
     "output_type": "stream",
     "text": [
      "con parametro, menos transferencias mas tiempo\n"
     ]
    }
   ],
   "source": [
    "\n",
    "dataE1D1_fewTrans = funciones.generarDataset(data,destinos[0],\n",
    "                                             transit_routing_preference = 'fewer_transfers')"
   ]
  },
  {
   "cell_type": "code",
   "execution_count": 9,
   "metadata": {
    "collapsed": false
   },
   "outputs": [
    {
     "data": {
      "text/plain": [
       "32    [WALKING, TRANSIT, WALKING]\n",
       "Name: descripcion, dtype: object"
      ]
     },
     "execution_count": 9,
     "metadata": {},
     "output_type": "execute_result"
    }
   ],
   "source": [
    "dataE1D1_fewTrans['descripcion']"
   ]
  },
  {
   "cell_type": "code",
   "execution_count": null,
   "metadata": {
    "collapsed": false
   },
   "outputs": [],
   "source": [
    "dataE1D1.consulta.iloc[0]"
   ]
  },
  {
   "cell_type": "code",
   "execution_count": null,
   "metadata": {
    "collapsed": false
   },
   "outputs": [],
   "source": [
    "for var in variablesMapeo:\n",
    "    funciones.mapear(dataset = dataE1D1,\n",
    "                     variable = var,\n",
    "                     destino = destinos[0],\n",
    "                     archivo = '../maps/dataE1D1' +'-' + var +'.png',\n",
    "                     titulo = var)"
   ]
  },
  {
   "cell_type": "code",
   "execution_count": null,
   "metadata": {
    "collapsed": false
   },
   "outputs": [],
   "source": [
    "funciones.guardarData(dataE1D1,'dataE1D1')"
   ]
  },
  {
   "cell_type": "code",
   "execution_count": null,
   "metadata": {
    "collapsed": true
   },
   "outputs": [],
   "source": [
    "dataE1D2 = funciones.generarDataset(geo.copy(),destinos[1])"
   ]
  },
  {
   "cell_type": "code",
   "execution_count": null,
   "metadata": {
    "collapsed": true
   },
   "outputs": [],
   "source": [
    "dataE1D3 = funciones.generarDataset(geo.copy(),destinos[2])"
   ]
  },
  {
   "cell_type": "code",
   "execution_count": null,
   "metadata": {
    "collapsed": true
   },
   "outputs": [],
   "source": [
    "dataE1D4 = funciones.generarDataset(geo.copy(),destinos[3])"
   ]
  },
  {
   "cell_type": "code",
   "execution_count": null,
   "metadata": {
    "collapsed": true
   },
   "outputs": [],
   "source": [
    "dataE1D5 = funciones.generarDataset(geo.copy(),destinos[4])"
   ]
  },
  {
   "cell_type": "code",
   "execution_count": null,
   "metadata": {
    "collapsed": true
   },
   "outputs": [],
   "source": [
    "dataE1D6 = funciones.generarDataset(geo.copy(),destinos[5])"
   ]
  },
  {
   "cell_type": "code",
   "execution_count": null,
   "metadata": {
    "collapsed": true
   },
   "outputs": [],
   "source": [
    "dataE1D7 = funciones.generarDataset(geo.copy(),destinos[6])"
   ]
  },
  {
   "cell_type": "code",
   "execution_count": null,
   "metadata": {
    "collapsed": false
   },
   "outputs": [],
   "source": [
    "for var in variablesMapeo:\n",
    "    funciones.mapear(dataset = dataE1D2,\n",
    "                     variable = var,\n",
    "                     destino = destinos[1],\n",
    "                     archivo = '../maps/dataE1D2' +'-' + var +'.png',\n",
    "                     titulo = var)\n",
    "    \n",
    "for var in variablesMapeo:\n",
    "    funciones.mapear(dataset = dataE1D3,\n",
    "                     variable = var,\n",
    "                     destino = destinos[2],\n",
    "                     archivo = '../maps/dataE1D3' +'-' + var +'.png',\n",
    "                     titulo = var)\n",
    "    \n",
    "for var in variablesMapeo:\n",
    "    funciones.mapear(dataset = dataE1D4,\n",
    "                     variable = var,\n",
    "                     destino = destinos[3],\n",
    "                     archivo = '../maps/dataE1D4' +'-' + var +'.png',\n",
    "                     titulo = var)\n",
    "    \n",
    "for var in variablesMapeo:\n",
    "    funciones.mapear(dataset = dataE1D5,\n",
    "                     variable = var,\n",
    "                     destino = destinos[4],\n",
    "                     archivo = '../maps/dataE1D5' +'-' + var +'.png',\n",
    "                     titulo = var)\n",
    "    \n",
    "for var in variablesMapeo:\n",
    "    funciones.mapear(dataset = dataE1D6,\n",
    "                     variable = var,\n",
    "                     destino = destinos[5],\n",
    "                     archivo = '../maps/dataE1D6' +'-' + var +'.png',\n",
    "                     titulo = var)\n",
    "    \n",
    "for var in variablesMapeo:\n",
    "    funciones.mapear(dataset = dataE1D7,\n",
    "                     variable = var,\n",
    "                     destino = destinos[6],\n",
    "                     archivo = '../maps/dataE1D7' +'-' + var +'.png',\n",
    "                     titulo = var)"
   ]
  },
  {
   "cell_type": "code",
   "execution_count": null,
   "metadata": {
    "collapsed": true
   },
   "outputs": [],
   "source": [
    "funciones.guardarData(dataE1D2,'dataE1D2')\n"
   ]
  },
  {
   "cell_type": "code",
   "execution_count": null,
   "metadata": {
    "collapsed": true
   },
   "outputs": [],
   "source": [
    "funciones.guardarData(dataE1D3,'dataE1D3')\n",
    "funciones.guardarData(dataE1D4,'dataE1D4')\n",
    "funciones.guardarData(dataE1D5,'dataE1D5')\n",
    "funciones.guardarData(dataE1D6,'dataE1D6')\n",
    "funciones.guardarData(dataE1D7,'dataE1D7')"
   ]
  },
  {
   "cell_type": "code",
   "execution_count": null,
   "metadata": {
    "collapsed": true
   },
   "outputs": [],
   "source": [
    "#setear tiempo de corrida\n",
    "#transit_routing_preference = 'fewer_transfers'\n",
    "\n",
    "#ver como correr esto con el nombre de la variable en texto, algo como \n",
    "{'Escenarios':escenarios,\n",
    " 'Destinos':destinos,\n",
    " 'Bases':{'Base':[dataE1D1,dataE1D2],\n",
    "          'Nombres':['dataE1D1','dataE1D2']    \n",
    "    }\n",
    "}\n",
    "\n",
    "\n"
   ]
  },
  {
   "cell_type": "code",
   "execution_count": null,
   "metadata": {
    "collapsed": true
   },
   "outputs": [],
   "source": [
    "print 'LISTOOO'"
   ]
  },
  {
   "cell_type": "code",
   "execution_count": null,
   "metadata": {
    "collapsed": false
   },
   "outputs": [],
   "source": []
  },
  {
   "cell_type": "code",
   "execution_count": null,
   "metadata": {
    "collapsed": true
   },
   "outputs": [],
   "source": []
  }
 ],
 "metadata": {
  "anaconda-cloud": {},
  "kernelspec": {
   "display_name": "Python [default]",
   "language": "python",
   "name": "python2"
  },
  "language_info": {
   "codemirror_mode": {
    "name": "ipython",
    "version": 2
   },
   "file_extension": ".py",
   "mimetype": "text/x-python",
   "name": "python",
   "nbconvert_exporter": "python",
   "pygments_lexer": "ipython2",
   "version": "2.7.12"
  }
 },
 "nbformat": 4,
 "nbformat_minor": 2
}
