{
 "cells": [
  {
   "cell_type": "code",
   "execution_count": 30,
   "metadata": {
    "collapsed": true
   },
   "outputs": [],
   "source": [
    "import pandas as pd\n",
    "import numpy as np\n",
    "import geopandas as gpd\n",
    "import googlemaps\n",
    "import os\n",
    "\n",
    "import funciones\n",
    "from shapely.geometry import Point\n",
    "\n",
    "import matplotlib.pyplot as plt\n",
    "\n",
    "#para decodificar polilineas\n",
    "#https://developers.google.com/maps/documentation/utilities/polylineutility\n",
    "#'`__rEb|ucJl@cB|BgGbOa\\\\bHuQh@cB@CdBmFnCcH~BgM~A}GbBcIh@qBCJ'\n",
    "\n",
    "#para volver a leer dict de texto\n",
    "#import ast\n",
    "#ast.literal_eval"
   ]
  },
  {
   "cell_type": "code",
   "execution_count": 2,
   "metadata": {
    "collapsed": false
   },
   "outputs": [],
   "source": [
    "#Creo la geometria\n",
    "geo = gpd.read_file('../data/fracciones/FraccionesPoligonoCABA.shp') \n",
    "#cambio coordenadas a latlong para google\n",
    "geo = geo.to_crs(epsg=4326)\n",
    "geo['X'] = [geo.geometry.iloc[i].centroid.x for i in range(geo.shape[0])]\n",
    "geo['Y'] = [geo.geometry.iloc[i].centroid.y for i in range(geo.shape[0])]\n"
   ]
  },
  {
   "cell_type": "code",
   "execution_count": 3,
   "metadata": {
    "collapsed": false
   },
   "outputs": [],
   "source": [
    "variablesMapeo = [ u'tramos',u'distancia',u'costo',u'tiempoTotal','descripcion',\n",
    "              u'duracionIngreso', u'distanciaIngreso',\n",
    "         u'duracionEgreso',  u'distanciaEgreso',  u'tiempoEnSistema']"
   ]
  },
  {
   "cell_type": "code",
   "execution_count": 4,
   "metadata": {
    "collapsed": false
   },
   "outputs": [],
   "source": [
    "#creo el vector de destinos\n",
    "escenario1 = gpd.read_file('../data/escenarios/Escenario1.shp')\n",
    "escenario1 = escenario1.to_crs(epsg=4326)\n",
    "destinos = [(escenario1.geometry.iloc[i].y,escenario1.geometry.iloc[i].x) for i in range(escenario1.shape[0])]\n"
   ]
  },
  {
   "cell_type": "code",
   "execution_count": 5,
   "metadata": {
    "collapsed": false
   },
   "outputs": [],
   "source": [
    "dataE1D1 = funciones.generarDataset(geo.copy(),destinos[0])"
   ]
  },
  {
   "cell_type": "code",
   "execution_count": 11,
   "metadata": {
    "collapsed": false
   },
   "outputs": [],
   "source": [
    "for var in variablesMapeo:\n",
    "    funciones.mapear(dataset = dataE1D1,\n",
    "                     variable = var,\n",
    "                     destino = destinos[0],\n",
    "                     archivo = '../maps/dataE1D1' +'-' + var +'.png',\n",
    "                     titulo = var)"
   ]
  },
  {
   "cell_type": "code",
   "execution_count": 24,
   "metadata": {
    "collapsed": false
   },
   "outputs": [],
   "source": [
    "guardarData(dataE1D1,'dataE1D1')"
   ]
  },
  {
   "cell_type": "code",
   "execution_count": 27,
   "metadata": {
    "collapsed": false
   },
   "outputs": [],
   "source": [
    "dataE1D2 = funciones.generarDataset(geo.copy(),destinos[1])\n",
    "dataE1D3 = funciones.generarDataset(geo.copy(),destinos[2])\n",
    "dataE1D4 = funciones.generarDataset(geo.copy(),destinos[3])\n",
    "dataE1D5 = funciones.generarDataset(geo.copy(),destinos[4])\n",
    "dataE1D6 = funciones.generarDataset(geo.copy(),destinos[5])\n",
    "dataE1D7 = funciones.generarDataset(geo.copy(),destinos[6])\n"
   ]
  },
  {
   "cell_type": "code",
   "execution_count": 32,
   "metadata": {
    "collapsed": false
   },
   "outputs": [],
   "source": [
    "for var in variablesMapeo:\n",
    "    funciones.mapear(dataset = dataE1D2,\n",
    "                     variable = var,\n",
    "                     destino = destinos[1],\n",
    "                     archivo = '../maps/dataE1D2' +'-' + var +'.png',\n",
    "                     titulo = var)\n",
    "    \n",
    "for var in variablesMapeo:\n",
    "    funciones.mapear(dataset = dataE1D3,\n",
    "                     variable = var,\n",
    "                     destino = destinos[2],\n",
    "                     archivo = '../maps/dataE1D3' +'-' + var +'.png',\n",
    "                     titulo = var)\n",
    "    \n",
    "for var in variablesMapeo:\n",
    "    funciones.mapear(dataset = dataE1D4,\n",
    "                     variable = var,\n",
    "                     destino = destinos[3],\n",
    "                     archivo = '../maps/dataE1D4' +'-' + var +'.png',\n",
    "                     titulo = var)\n",
    "    \n",
    "for var in variablesMapeo:\n",
    "    funciones.mapear(dataset = dataE1D5,\n",
    "                     variable = var,\n",
    "                     destino = destinos[4],\n",
    "                     archivo = '../maps/dataE1D5' +'-' + var +'.png',\n",
    "                     titulo = var)\n",
    "    \n",
    "for var in variablesMapeo:\n",
    "    funciones.mapear(dataset = dataE1D6,\n",
    "                     variable = var,\n",
    "                     destino = destinos[5],\n",
    "                     archivo = '../maps/dataE1D6' +'-' + var +'.png',\n",
    "                     titulo = var)\n",
    "    \n",
    "for var in variablesMapeo:\n",
    "    funciones.mapear(dataset = dataE1D7,\n",
    "                     variable = var,\n",
    "                     destino = destinos[6],\n",
    "                     archivo = '../maps/dataE1D7' +'-' + var +'.png',\n",
    "                     titulo = var)"
   ]
  },
  {
   "cell_type": "code",
   "execution_count": 33,
   "metadata": {
    "collapsed": true
   },
   "outputs": [],
   "source": [
    "funciones.guardarData(dataE1D2,'dataE1D2')\n",
    "funciones.guardarData(dataE1D3,'dataE1D3')\n",
    "funciones.guardarData(dataE1D4,'dataE1D4')\n",
    "funciones.guardarData(dataE1D5,'dataE1D5')\n",
    "funciones.guardarData(dataE1D6,'dataE1D6')\n",
    "funciones.guardarData(dataE1D7,'dataE1D7')"
   ]
  },
  {
   "cell_type": "code",
   "execution_count": null,
   "metadata": {
    "collapsed": true
   },
   "outputs": [],
   "source": [
    "#setear tiempo de corrida\n",
    "#transit_routing_preference = 'fewer_transfers'\n",
    "\n",
    "#ver como correr esto con el nombre de la variable en texto, algo como \n",
    "{'Escenarios':escenarios,\n",
    " 'Destinos':destinos,\n",
    " 'Bases':{'Base':[dataE1D1,dataE1D2],\n",
    "          'Nombres':['dataE1D1','dataE1D2']    \n",
    "    }\n",
    "}\n",
    "\n",
    "\n"
   ]
  },
  {
   "cell_type": "code",
   "execution_count": null,
   "metadata": {
    "collapsed": true
   },
   "outputs": [],
   "source": []
  }
 ],
 "metadata": {
  "anaconda-cloud": {},
  "kernelspec": {
   "display_name": "Python [default]",
   "language": "python",
   "name": "python2"
  },
  "language_info": {
   "codemirror_mode": {
    "name": "ipython",
    "version": 2
   },
   "file_extension": ".py",
   "mimetype": "text/x-python",
   "name": "python",
   "nbconvert_exporter": "python",
   "pygments_lexer": "ipython2",
   "version": "2.7.12"
  }
 },
 "nbformat": 4,
 "nbformat_minor": 2
}
