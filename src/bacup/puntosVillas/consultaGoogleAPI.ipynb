{
 "cells": [
  {
   "cell_type": "code",
   "execution_count": 1,
   "metadata": {
    "collapsed": false
   },
   "outputs": [],
   "source": [
    "import pandas as pd\n",
    "import numpy as np\n",
    "import geopandas as gpd\n",
    "import googlemaps\n",
    "import os\n",
    "import datetime\n",
    "\n",
    "import funciones\n",
    "from shapely.geometry import Point\n",
    "\n",
    "import matplotlib.pyplot as plt\n",
    "\n",
    "#para decodificar polilineas\n",
    "#https://developers.google.com/maps/documentation/utilities/polylineutility\n",
    "#'`__rEb|ucJl@cB|BgGbOa\\\\bHuQh@cB@CdBmFnCcH~BgM~A}GbBcIh@qBCJ'\n",
    "\n",
    "#para volver a leer dict de texto\n",
    "import ast\n"
   ]
  },
  {
   "cell_type": "code",
   "execution_count": 2,
   "metadata": {
    "collapsed": false
   },
   "outputs": [],
   "source": [
    "#Creo la geometria\n",
    "geo = gpd.read_file('geometria/villas_asentamientosPUNTOS_AGBA_posgar5.shp') \n",
    "#cambio coordenadas a latlong para google\n",
    "geo = geo.to_crs(epsg=4326)\n",
    "geo['X'] = [geo.geometry.iloc[i].centroid.x for i in range(geo.shape[0])]\n",
    "geo['Y'] = [geo.geometry.iloc[i].centroid.y for i in range(geo.shape[0])]\n"
   ]
  },
  {
   "cell_type": "code",
   "execution_count": 17,
   "metadata": {
    "collapsed": false
   },
   "outputs": [],
   "source": [
    "variablesMapeo = [ u'tramos',u'distancia',u'costo',u'tiempoTotal','descripcion',\n",
    "              u'duracionIngreso', u'distanciaIngreso',\n",
    "         u'duracionEgreso',  u'distanciaEgreso',  u'tiempoEnSistema']\n",
    "\n",
    "#variables con problemas ascii \n",
    "variablesAsciiProblemas = [u'dpto',\n",
    "                           u'munic',\n",
    "                           u'nombre',\n",
    "                           u'obs_otros',\n",
    "                          ]"
   ]
  },
  {
   "cell_type": "code",
   "execution_count": 7,
   "metadata": {
    "collapsed": false
   },
   "outputs": [],
   "source": [
    "#creo el vector de destinos\n",
    "#ver si invertir\n",
    "destinos = [(-34.605655, -58.374446)]\n"
   ]
  },
  {
   "cell_type": "markdown",
   "metadata": {},
   "source": [
    "## Mejor viaje"
   ]
  },
  {
   "cell_type": "code",
   "execution_count": 8,
   "metadata": {
    "collapsed": false
   },
   "outputs": [],
   "source": [
    "bestTrip = funciones.generarConsulta(geo.copy(),destinos[0],transit_routing_preference = False)"
   ]
  },
  {
   "cell_type": "code",
   "execution_count": 9,
   "metadata": {
    "collapsed": false
   },
   "outputs": [
    {
     "data": {
      "text/plain": [
       "39"
      ]
     },
     "execution_count": 9,
     "metadata": {},
     "output_type": "execute_result"
    }
   ],
   "source": [
    "#Sin respuesta\n",
    "sum([len(bestTrip.consulta.iloc[i])== 0 for i in range(bestTrip.shape[0])])"
   ]
  },
  {
   "cell_type": "code",
   "execution_count": null,
   "metadata": {
    "collapsed": true
   },
   "outputs": [],
   "source": [
    "#guardar en csv sin variabls ascii"
   ]
  },
  {
   "cell_type": "code",
   "execution_count": 11,
   "metadata": {
    "collapsed": false
   },
   "outputs": [
    {
     "data": {
      "text/plain": [
       "Index([  u'ORIG_FID',       u'dpto', u'familias_p',   u'geometry',\n",
       "           u'id_PBA',   u'idtrucho',      u'munic',     u'nombre',\n",
       "        u'obs_otros',   u'orig_pba',     u'origen',       u'prov',\n",
       "         u'tipo_nos',   u'tipo_ofi',          u'X',          u'Y'],\n",
       "      dtype='object')"
      ]
     },
     "execution_count": 11,
     "metadata": {},
     "output_type": "execute_result"
    }
   ],
   "source": [
    "geo.columns"
   ]
  },
  {
   "cell_type": "code",
   "execution_count": 37,
   "metadata": {
    "collapsed": false
   },
   "outputs": [],
   "source": [
    "bestTrip.drop(variablesAsciiProblemas,axis=1).to_csv('bestTrip.csv',index=False)"
   ]
  },
  {
   "cell_type": "code",
   "execution_count": null,
   "metadata": {
    "collapsed": false
   },
   "outputs": [],
   "source": [
    "#dataBacup = pd.read_csv('bestTrip.csv')\n",
    "#dataBacup = dataBacup.consulta.map(ast.literal_eval)\n"
   ]
  },
  {
   "cell_type": "code",
   "execution_count": 41,
   "metadata": {
    "collapsed": false
   },
   "outputs": [],
   "source": [
    "bestTripConDatos = funciones.extraerDataConsulta(data=bestTrip,\n",
    "                                      destino = destinos[0],\n",
    "                                      transit_routing_preference = 'mejor viaje') "
   ]
  },
  {
   "cell_type": "code",
   "execution_count": 42,
   "metadata": {
    "collapsed": true
   },
   "outputs": [],
   "source": [
    "bestTripConDatos2 = funciones.generarDistancia(bestTripConDatos,destinos[0])"
   ]
  },
  {
   "cell_type": "code",
   "execution_count": 43,
   "metadata": {
    "collapsed": false
   },
   "outputs": [],
   "source": [
    "bestTripConDatos2.drop(variablesAsciiProblemas,axis=1,inplace=True)"
   ]
  },
  {
   "cell_type": "code",
   "execution_count": 44,
   "metadata": {
    "collapsed": false
   },
   "outputs": [],
   "source": [
    "nombre='bestTripConDatos2'\n",
    "bestTripConDatos2.descripcion = bestTripConDatos2.descripcion.map(str)\n",
    "bestTripConDatos2.modos = bestTripConDatos2.modos.map(str)\n",
    "bestTripConDatos2.consulta = bestTripConDatos2.consulta.map(str)\n",
    "\n",
    "    \n",
    "bestTripConDatos2.to_file('resultados/'+str(nombre))\n",
    "bestTripConDatos2.to_csv('resultados/'+str(nombre)+'/'+str(nombre)+'.csv')"
   ]
  },
  {
   "cell_type": "markdown",
   "metadata": {
    "collapsed": false
   },
   "source": [
    "## Menos trasbordos"
   ]
  },
  {
   "cell_type": "code",
   "execution_count": 38,
   "metadata": {
    "collapsed": false
   },
   "outputs": [],
   "source": [
    "menosTrans = funciones.generarConsulta(geo.copy(),destinos[0],\n",
    "                                             transit_routing_preference = 'fewer_transfers')"
   ]
  },
  {
   "cell_type": "code",
   "execution_count": 39,
   "metadata": {
    "collapsed": true
   },
   "outputs": [],
   "source": [
    "menosTrans.drop(variablesAsciiProblemas,axis=1).to_csv('menosTrans.csv',index=False)"
   ]
  },
  {
   "cell_type": "code",
   "execution_count": 45,
   "metadata": {
    "collapsed": true
   },
   "outputs": [],
   "source": [
    "menosTransConData = funciones.extraerDataConsulta(data=menosTrans,\n",
    "                                      destino = destinos[0],\n",
    "                                      transit_routing_preference = 'menos transbordos') "
   ]
  },
  {
   "cell_type": "code",
   "execution_count": 46,
   "metadata": {
    "collapsed": true
   },
   "outputs": [],
   "source": [
    "menosTransConData2 = funciones.generarDistancia(menosTransConData,destinos[0])"
   ]
  },
  {
   "cell_type": "code",
   "execution_count": 47,
   "metadata": {
    "collapsed": true
   },
   "outputs": [],
   "source": [
    "menosTransConData2.drop(variablesAsciiProblemas,axis=1,inplace=True)"
   ]
  },
  {
   "cell_type": "code",
   "execution_count": 48,
   "metadata": {
    "collapsed": true
   },
   "outputs": [],
   "source": [
    "nombre='menosTransConData'\n",
    "menosTransConData2.descripcion = menosTransConData2.descripcion.map(str)\n",
    "menosTransConData2.modos = menosTransConData2.modos.map(str)\n",
    "menosTransConData2.consulta = menosTransConData2.consulta.map(str)\n",
    "\n",
    "    \n",
    "menosTransConData2.to_file('resultados/'+str(nombre))\n",
    "menosTransConData2.to_csv('resultados/'+str(nombre)+'/'+str(nombre)+'.csv')"
   ]
  },
  {
   "cell_type": "code",
   "execution_count": null,
   "metadata": {
    "collapsed": true
   },
   "outputs": [],
   "source": []
  }
 ],
 "metadata": {
  "anaconda-cloud": {},
  "kernelspec": {
   "display_name": "Python 2",
   "language": "python",
   "name": "python2"
  },
  "language_info": {
   "codemirror_mode": {
    "name": "ipython",
    "version": 2
   },
   "file_extension": ".py",
   "mimetype": "text/x-python",
   "name": "python",
   "nbconvert_exporter": "python",
   "pygments_lexer": "ipython2",
   "version": "2.7.13"
  }
 },
 "nbformat": 4,
 "nbformat_minor": 2
}
