{
 "cells": [
  {
   "cell_type": "code",
   "execution_count": 1,
   "metadata": {
    "collapsed": false
   },
   "outputs": [],
   "source": [
    "import pandas as pd\n",
    "import numpy as np\n",
    "import geopandas as gpd\n",
    "import googlemaps\n",
    "import os\n",
    "\n",
    "import funciones\n",
    "from shapely.geometry import Point\n",
    "\n",
    "import matplotlib.pyplot as plt\n",
    "#para decodificar polilineas\n",
    "#https://developers.google.com/maps/documentation/utilities/polylineutility\n",
    "#'`__rEb|ucJl@cB|BgGbOa\\\\bHuQh@cB@CdBmFnCcH~BgM~A}GbBcIh@qBCJ'\n",
    "\n",
    "#para volver a leer dict de texto\n",
    "#import ast\n",
    "#ast.literal_eval"
   ]
  },
  {
   "cell_type": "code",
   "execution_count": 2,
   "metadata": {
    "collapsed": false
   },
   "outputs": [],
   "source": [
    "#Creo la geometria\n",
    "geo = gpd.read_file('../data/fracciones/FraccionesPoligonoCABA.shp') \n",
    "#cambio coordenadas a latlong para google\n",
    "geo = geo.to_crs(epsg=4326)\n",
    "geo['X'] = [geo.geometry.iloc[i].centroid.x for i in range(geo.shape[0])]\n",
    "geo['Y'] = [geo.geometry.iloc[i].centroid.y for i in range(geo.shape[0])]\n"
   ]
  },
  {
   "cell_type": "code",
   "execution_count": 3,
   "metadata": {
    "collapsed": false
   },
   "outputs": [],
   "source": [
    "variablesMapeo = [ u'tramos',u'distancia',u'costo',u'tiempoTotal','descripcion',\n",
    "              u'duracionIngreso', u'distanciaIngreso',\n",
    "         u'duracionEgreso',  u'distanciaEgreso',  u'tiempoEnSistema']"
   ]
  },
  {
   "cell_type": "code",
   "execution_count": 4,
   "metadata": {
    "collapsed": false
   },
   "outputs": [],
   "source": [
    "#creo el vector de destinos\n",
    "escenario1 = gpd.read_file('../data/escenarios/EscenarioV4.shp')\n",
    "escenario1 = escenario1.to_crs(epsg=4326)\n",
    "destinos = [(escenario1.geometry.iloc[i].y,escenario1.geometry.iloc[i].x) for i in range(escenario1.shape[0])]\n"
   ]
  },
  {
   "cell_type": "code",
   "execution_count": 5,
   "metadata": {
    "collapsed": false
   },
   "outputs": [],
   "source": [
    "dataE1D1_menosTrans = funciones.generarDataset(geo.copy(),destinos[0],\n",
    "                                             transit_routing_preference = 'fewer_transfers')"
   ]
  },
  {
   "cell_type": "code",
   "execution_count": 6,
   "metadata": {
    "collapsed": false
   },
   "outputs": [
    {
     "name": "stderr",
     "output_type": "stream",
     "text": [
      "/home/pipe/anaconda2/lib/python2.7/site-packages/pysal/esda/mapclassify.py:259: RuntimeWarning: invalid value encountered in greater\n",
      "  binIds += (x > l) * (x <= r) * k\n",
      "/home/pipe/anaconda2/lib/python2.7/site-packages/pysal/esda/mapclassify.py:259: RuntimeWarning: invalid value encountered in less_equal\n",
      "  binIds += (x > l) * (x <= r) * k\n",
      "/home/pipe/anaconda2/lib/python2.7/site-packages/numpy/lib/function_base.py:3569: RuntimeWarning: Invalid value encountered in median\n",
      "  RuntimeWarning)\n"
     ]
    }
   ],
   "source": [
    "for var in variablesMapeo:\n",
    "    funciones.mapear(dataset = dataE1D1_menosTrans,\n",
    "                     variable = var,\n",
    "                     destino = destinos[0],\n",
    "                     archivo = '../maps/dataE1D1_menosTrans' +'-' + var +'.png',\n",
    "                     titulo = var)"
   ]
  },
  {
   "cell_type": "code",
   "execution_count": 7,
   "metadata": {
    "collapsed": true
   },
   "outputs": [],
   "source": [
    "dataE1D1_menosTrans = funciones.generarDistancia(dataE1D1_menosTrans,destinos[0])"
   ]
  },
  {
   "cell_type": "code",
   "execution_count": 8,
   "metadata": {
    "collapsed": false
   },
   "outputs": [],
   "source": [
    "funciones.guardarData(dataE1D1_menosTrans,'dataE1D1_menosTrans')"
   ]
  },
  {
   "cell_type": "code",
   "execution_count": 9,
   "metadata": {
    "collapsed": true
   },
   "outputs": [],
   "source": [
    "dataE1D2_menosTrans = funciones.generarDataset(geo.copy(),destinos[1],transit_routing_preference = 'fewer_transfers')"
   ]
  },
  {
   "cell_type": "code",
   "execution_count": 10,
   "metadata": {
    "collapsed": true
   },
   "outputs": [],
   "source": [
    "dataE1D3_menosTrans = funciones.generarDataset(geo.copy(),destinos[2],transit_routing_preference = 'fewer_transfers')"
   ]
  },
  {
   "cell_type": "code",
   "execution_count": 11,
   "metadata": {
    "collapsed": true
   },
   "outputs": [],
   "source": [
    "dataE1D4_menosTrans = funciones.generarDataset(geo.copy(),destinos[3],transit_routing_preference = 'fewer_transfers')"
   ]
  },
  {
   "cell_type": "code",
   "execution_count": 12,
   "metadata": {
    "collapsed": true
   },
   "outputs": [],
   "source": [
    "dataE1D5_menosTrans = funciones.generarDataset(geo.copy(),destinos[4],transit_routing_preference = 'fewer_transfers')"
   ]
  },
  {
   "cell_type": "code",
   "execution_count": 13,
   "metadata": {
    "collapsed": true
   },
   "outputs": [],
   "source": [
    "dataE1D6_menosTrans = funciones.generarDataset(geo.copy(),destinos[5],transit_routing_preference = 'fewer_transfers')"
   ]
  },
  {
   "cell_type": "code",
   "execution_count": 14,
   "metadata": {
    "collapsed": true
   },
   "outputs": [],
   "source": [
    "dataE1D7_menosTrans = funciones.generarDataset(geo.copy(),destinos[6],transit_routing_preference = 'fewer_transfers')"
   ]
  },
  {
   "cell_type": "code",
   "execution_count": 15,
   "metadata": {
    "collapsed": false
   },
   "outputs": [
    {
     "name": "stderr",
     "output_type": "stream",
     "text": [
      "/home/pipe/anaconda2/lib/python2.7/site-packages/matplotlib/pyplot.py:516: RuntimeWarning: More than 20 figures have been opened. Figures created through the pyplot interface (`matplotlib.pyplot.figure`) are retained until explicitly closed and may consume too much memory. (To control this warning, see the rcParam `figure.max_open_warning`).\n",
      "  max_open_warning, RuntimeWarning)\n"
     ]
    }
   ],
   "source": [
    "for var in variablesMapeo:\n",
    "    funciones.mapear(dataset = dataE1D2_menosTrans,\n",
    "                     variable = var,\n",
    "                     destino = destinos[1],\n",
    "                     archivo = '../maps/dataE1D2_menosTrans' +'-' + var +'.png',\n",
    "                     titulo = var)\n",
    "    \n",
    "for var in variablesMapeo:\n",
    "    funciones.mapear(dataset = dataE1D3_menosTrans,\n",
    "                     variable = var,\n",
    "                     destino = destinos[2],\n",
    "                     archivo = '../maps/dataE1D3_menosTrans' +'-' + var +'.png',\n",
    "                     titulo = var)\n",
    "    \n",
    "for var in variablesMapeo:\n",
    "    funciones.mapear(dataset = dataE1D4_menosTrans,\n",
    "                     variable = var,\n",
    "                     destino = destinos[3],\n",
    "                     archivo = '../maps/dataE1D4_menosTrans' +'-' + var +'.png',\n",
    "                     titulo = var)\n",
    "    \n",
    "for var in variablesMapeo:\n",
    "    funciones.mapear(dataset = dataE1D5_menosTrans,\n",
    "                     variable = var,\n",
    "                     destino = destinos[4],\n",
    "                     archivo = '../maps/dataE1D5_menosTrans' +'-' + var +'.png',\n",
    "                     titulo = var)\n",
    "    \n",
    "for var in variablesMapeo:\n",
    "    funciones.mapear(dataset = dataE1D6_menosTrans,\n",
    "                     variable = var,\n",
    "                     destino = destinos[5],\n",
    "                     archivo = '../maps/dataE1D6_menosTrans' +'-' + var +'.png',\n",
    "                     titulo = var)\n",
    "    \n",
    "for var in variablesMapeo:\n",
    "    funciones.mapear(dataset = dataE1D7_menosTrans,\n",
    "                     variable = var,\n",
    "                     destino = destinos[6],\n",
    "                     archivo = '../maps/dataE1D7_menosTrans' +'-' + var +'.png',\n",
    "                     titulo = var)"
   ]
  },
  {
   "cell_type": "code",
   "execution_count": 16,
   "metadata": {
    "collapsed": true
   },
   "outputs": [],
   "source": [
    "dataE1D2_menosTrans = funciones.generarDistancia(dataE1D2_menosTrans,destinos[1])\n",
    "dataE1D3_menosTrans = funciones.generarDistancia(dataE1D3_menosTrans,destinos[2])\n",
    "dataE1D4_menosTrans = funciones.generarDistancia(dataE1D4_menosTrans,destinos[3])\n",
    "dataE1D5_menosTrans = funciones.generarDistancia(dataE1D5_menosTrans,destinos[4])\n",
    "dataE1D6_menosTrans = funciones.generarDistancia(dataE1D6_menosTrans,destinos[5])\n",
    "dataE1D7_menosTrans = funciones.generarDistancia(dataE1D7_menosTrans,destinos[6])"
   ]
  },
  {
   "cell_type": "code",
   "execution_count": 17,
   "metadata": {
    "collapsed": false
   },
   "outputs": [],
   "source": [
    "funciones.guardarData(dataE1D2_menosTrans,'dataE1D2_menosTrans')\n",
    "funciones.guardarData(dataE1D3_menosTrans,'dataE1D3_menosTrans')\n",
    "funciones.guardarData(dataE1D4_menosTrans,'dataE1D4_menosTrans')\n",
    "funciones.guardarData(dataE1D5_menosTrans,'dataE1D5_menosTrans')\n",
    "funciones.guardarData(dataE1D6_menosTrans,'dataE1D6_menosTrans')\n",
    "funciones.guardarData(dataE1D7_menosTrans,'dataE1D7_menosTrans')"
   ]
  },
  {
   "cell_type": "code",
   "execution_count": null,
   "metadata": {
    "collapsed": true
   },
   "outputs": [],
   "source": []
  }
 ],
 "metadata": {
  "anaconda-cloud": {},
  "kernelspec": {
   "display_name": "Python [default]",
   "language": "python",
   "name": "python2"
  },
  "language_info": {
   "codemirror_mode": {
    "name": "ipython",
    "version": 2
   },
   "file_extension": ".py",
   "mimetype": "text/x-python",
   "name": "python",
   "nbconvert_exporter": "python",
   "pygments_lexer": "ipython2",
   "version": "2.7.12"
  }
 },
 "nbformat": 4,
 "nbformat_minor": 2
}
